{
 "cells": [
  {
   "metadata": {},
   "cell_type": "code",
   "outputs": [],
   "execution_count": null,
   "source": [
    "import pandas as pd\n",
    "import viz_functions as viz"
   ],
   "id": "cc4904436ae8689f"
  },
  {
   "metadata": {},
   "cell_type": "code",
   "outputs": [],
   "execution_count": null,
   "source": "data = pd.read_pickle('Data/data_cleaned.pkl')",
   "id": "f4bb0251e1d5f128"
  },
  {
   "metadata": {},
   "cell_type": "code",
   "outputs": [],
   "execution_count": null,
   "source": [
    "labels = {\n",
    "    '%_FEMALE': 'Share of Female Officers',\n",
    "    '%_BLACK': 'Share of Black Officers',\n",
    "    '%_HISP': 'Share of Hispanic Officers',\n",
    "    'CCRB': 'Share of Officers in CCRB-Covered Agencies',\n",
    "    'CFDBK_POLICY': 'Share of Officers in Agencies Using Community Feedback',\n",
    "    'STD_FORCE_TO_RESIDENT': 'Lethal Force Incidents per 100k Residents (std)',\n",
    "    'STD_FORCE_TO_CRIME': 'Lethal Force Incidents per 10k Reported Crimes (std)'\n",
    "}"
   ],
   "id": "78b47a17c69600c7"
  },
  {
   "metadata": {},
   "cell_type": "code",
   "outputs": [],
   "execution_count": null,
   "source": [
    "corr = data[['%_FEMALE', '%_BLACK', '%_HISP', 'CCRB',\n",
    "       'CFDBK_POLICY', 'STD_FORCE_TO_RESIDENT', 'STD_FORCE_TO_CRIME']]\n",
    "viz.plot_correlation_matrix(corr)"
   ],
   "id": "983793287cd7474a"
  },
  {
   "metadata": {},
   "cell_type": "markdown",
   "source": [
    "## Hypothesis 1 Analysis: Share of Female Officers vs. Lethal Force Incidents\n",
    "*States that have a higher proportion of female officers will have a less lethal force incidents per year.*"
   ],
   "id": "ee4306529a56817"
  },
  {
   "metadata": {},
   "cell_type": "code",
   "outputs": [],
   "execution_count": null,
   "source": "viz.scatter_dual_year_highlight(data, '%_FEMALE','STD_FORCE_TO_CRIME', label_map= labels)",
   "id": "91f3c50b4eedf4"
  },
  {
   "metadata": {},
   "cell_type": "code",
   "outputs": [],
   "execution_count": null,
   "source": "viz.scatter_dual_year_highlight(data, '%_FEMALE','STD_FORCE_TO_CRIME', label_map= labels)",
   "id": "a1252f181f779e76"
  },
  {
   "metadata": {},
   "cell_type": "markdown",
   "source": [
    "## Hypothesis 2 Analysis: Minority Officer Representation vs. Lethal Force Incidents\n",
    "*States that have a higher proportion of minority officers (Black, Latino) are less likely to be involved in lethal force incidents.*"
   ],
   "id": "87f294435dbf5101"
  },
  {
   "metadata": {},
   "cell_type": "code",
   "outputs": [],
   "execution_count": null,
   "source": "viz.scatter_dual_year_highlight(data, '%_BLACK','STD_FORCE_TO_RESIDENT', label_map= labels)",
   "id": "30d1b7dfc52d971a"
  },
  {
   "metadata": {},
   "cell_type": "code",
   "outputs": [],
   "execution_count": null,
   "source": "viz.scatter_dual_year_highlight(data, '%_BLACK','STD_FORCE_TO_CRIME', label_map= labels)",
   "id": "53eff2f76db214ec"
  },
  {
   "metadata": {},
   "cell_type": "code",
   "outputs": [],
   "execution_count": null,
   "source": "viz.scatter_dual_year_highlight(data, '%_HISP','STD_FORCE_TO_RESIDENT', label_map= labels)",
   "id": "35bda078382878e5"
  },
  {
   "metadata": {},
   "cell_type": "code",
   "outputs": [],
   "execution_count": null,
   "source": "viz.scatter_dual_year_highlight(data, '%_HISP','STD_FORCE_TO_CRIME', label_map= labels)",
   "id": "8ffe7741ed91e795"
  },
  {
   "metadata": {},
   "cell_type": "markdown",
   "source": [
    "## Hypothesis 3 Analysis: Minority Officer Representation vs. Lethal Force Incidents\n",
    "*States where a greater share of officers are employed in agencies with a civilian complaint review board will have a less lethal force incidents per year.*"
   ],
   "id": "9d7822c777628c46"
  },
  {
   "metadata": {},
   "cell_type": "code",
   "outputs": [],
   "execution_count": null,
   "source": "viz.scatter_dual_year_highlight(data, 'CCRB','STD_FORCE_TO_RESIDENT', label_map= labels)",
   "id": "aad3713eb84fd89"
  },
  {
   "metadata": {},
   "cell_type": "code",
   "outputs": [],
   "execution_count": null,
   "source": "viz.scatter_dual_year_highlight(data, 'CCRB','STD_FORCE_TO_CRIME', label_map= labels)",
   "id": "34162d99aa8abe38"
  }
 ],
 "metadata": {},
 "nbformat": 5,
 "nbformat_minor": 9
}
