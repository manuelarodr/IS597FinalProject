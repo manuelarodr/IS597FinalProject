{
 "cells": [
  {
   "metadata": {},
   "cell_type": "code",
   "source": [
    "import pandas as pd\n",
    "import viz_functions as viz\n",
    "from scipy.stats import spearmanr"
   ],
   "id": "cc4904436ae8689f",
   "outputs": [],
   "execution_count": null
  },
  {
   "metadata": {},
   "cell_type": "code",
   "source": [
    "data = pd.read_pickle('Data/data_log_transformed.pkl')\n",
    "original = pd.read_pickle('Data/data_cleaned.pkl')"
   ],
   "id": "f4bb0251e1d5f128",
   "outputs": [],
   "execution_count": null
  },
  {
   "metadata": {},
   "cell_type": "code",
   "source": [
    "labels = {\n",
    "    '%_FEMALE': 'Share of Female Officers (log1p)',\n",
    "    '%_BLACK': 'Share of Black Officers (log1p)',\n",
    "    '%_HISP': 'Share of Hispanic Officers (log1p)',\n",
    "    'CCRB': 'Share of Officers in CCRB-Covered Agencies (log1p)',\n",
    "    'CFDBK_POLICY': 'Share of Officers in Agencies Using Community Feedback (log1p)',\n",
    "    'STD_FORCE_TO_RESIDENT': 'Lethal Force Incidents / 100k Residents (log1p-scaled)',\n",
    "    'STD_FORCE_TO_CRIME': 'Lethal Force Incidents / 1k Reported Crimes (log1p-scaled)'\n",
    "}"
   ],
   "id": "78b47a17c69600c7",
   "outputs": [],
   "execution_count": null
  },
  {
   "metadata": {},
   "cell_type": "code",
   "source": [
    "# Figure 1: Lethal Force Incidents per 100k Residents by State and Year\n",
    "viz.bar_by_state_year( original,'%_FORCE_TO_RESIDENT')"
   ],
   "id": "43f639f24bfbcbda",
   "outputs": [],
   "execution_count": null
  },
  {
   "metadata": {},
   "cell_type": "code",
   "source": [
    "# Figure 2: Lethal Force Incidents per 100k Residents by State and Year\n",
    "viz.bar_by_state_year( original,'%_FORCE_TO_CRIME')"
   ],
   "id": "801f06053f677d7c",
   "outputs": [],
   "execution_count": null
  },
  {
   "metadata": {},
   "cell_type": "code",
   "source": [
    "# Figure 3: Spearman Correlation Matrix\n",
    "corr = data[['%_FEMALE', '%_BLACK', '%_HISP', 'CCRB',\n",
    "       'CFDBK_POLICY', 'STD_FORCE_TO_RESIDENT', 'STD_FORCE_TO_CRIME']]\n",
    "viz.plot_correlation_matrix(corr)"
   ],
   "id": "983793287cd7474a",
   "outputs": [],
   "execution_count": null
  },
  {
   "metadata": {},
   "cell_type": "markdown",
   "source": "## Hypothesis 1 & Hypothesis 4.1 Analysis: Share of Female Officers vs. Lethal Force Incidents\n",
   "id": "6d35c618ef9aa949"
  },
  {
   "metadata": {},
   "cell_type": "markdown",
   "source": [
    "### State level analysis\n",
    " *States that have a higher proportion of female officers will have a less lethal force incidents per year.*"
   ],
   "id": "3e362ea36bf685a5"
  },
  {
   "metadata": {},
   "cell_type": "code",
   "source": "viz.scatter_dual_year_highlight(data, '%_FEMALE','STD_FORCE_TO_CRIME', label_map= labels)",
   "id": "91f3c50b4eedf4",
   "outputs": [],
   "execution_count": null
  },
  {
   "metadata": {},
   "cell_type": "code",
   "source": "viz.scatter_dual_year_highlight(data, '%_FEMALE','STD_FORCE_TO_CRIME', label_map= labels)",
   "id": "a1252f181f779e76",
   "outputs": [],
   "execution_count": null
  },
  {
   "metadata": {},
   "cell_type": "markdown",
   "source": [
    "### County level analysis\n",
    "*Counties that have a higher proportion of female officers will have a less lethal force incidents per year.*"
   ],
   "id": "7d8036bb500315e0"
  },
  {
   "metadata": {},
   "cell_type": "code",
   "outputs": [],
   "execution_count": null,
   "source": "",
   "id": "d1238e98e2e64de2"
  },
  {
   "metadata": {},
   "cell_type": "markdown",
   "source": "## Hypothesis 2 & Hypothesis 4.2 Analysis: Minority Officer Representation vs. Lethal Force Incidents",
   "id": "87f294435dbf5101"
  },
  {
   "metadata": {},
   "cell_type": "markdown",
   "source": [
    "### State level analysis\n",
    "*States that have a higher proportion of minority officers (Black, Latino) are less likely to be involved in lethal force incidents.*"
   ],
   "id": "dfb6a6f54cd8b943"
  },
  {
   "metadata": {},
   "cell_type": "code",
   "source": "viz.scatter_dual_year_highlight(data, '%_BLACK','STD_FORCE_TO_RESIDENT', label_map= labels)",
   "id": "30d1b7dfc52d971a",
   "outputs": [],
   "execution_count": null
  },
  {
   "metadata": {},
   "cell_type": "code",
   "source": "viz.scatter_dual_year_highlight(data, '%_BLACK','STD_FORCE_TO_CRIME', label_map= labels)",
   "id": "53eff2f76db214ec",
   "outputs": [],
   "execution_count": null
  },
  {
   "metadata": {},
   "cell_type": "code",
   "source": "viz.scatter_dual_year_highlight(data, '%_HISP','STD_FORCE_TO_RESIDENT', label_map= labels)",
   "id": "35bda078382878e5",
   "outputs": [],
   "execution_count": null
  },
  {
   "metadata": {},
   "cell_type": "code",
   "source": "viz.scatter_dual_year_highlight(data, '%_HISP','STD_FORCE_TO_CRIME', label_map= labels)",
   "id": "8ffe7741ed91e795",
   "outputs": [],
   "execution_count": null
  },
  {
   "metadata": {},
   "cell_type": "markdown",
   "source": [
    "### County level analysis\n",
    "*Counties that have a higher proportion of minority officers (Black, Latino) are less likely to be involved in lethal force incidents.*"
   ],
   "id": "5a0393f96e7abe2e"
  },
  {
   "metadata": {},
   "cell_type": "code",
   "outputs": [],
   "execution_count": null,
   "source": "",
   "id": "328066f8d10197fb"
  },
  {
   "metadata": {},
   "cell_type": "markdown",
   "source": "## Hypothesis 3 & Hypothesis 4.3 Analysis: Civilian Complaint Review Board (CCRB) Presence vs. Lethal Force Incidents",
   "id": "9d7822c777628c46"
  },
  {
   "metadata": {},
   "cell_type": "markdown",
   "source": [
    "### State level analysis\n",
    "*States where a greater share of officers are employed in agencies with a civilian complaint review board will have a less lethal force incidents per year.*"
   ],
   "id": "2b74ea8ad823933e"
  },
  {
   "metadata": {},
   "cell_type": "code",
   "source": "viz.scatter_dual_year_highlight(data, 'CCRB','STD_FORCE_TO_RESIDENT', label_map= labels)",
   "id": "aad3713eb84fd89",
   "outputs": [],
   "execution_count": null
  },
  {
   "metadata": {},
   "cell_type": "code",
   "source": "viz.scatter_dual_year_highlight(data, 'CCRB','STD_FORCE_TO_CRIME', label_map= labels)",
   "id": "34162d99aa8abe38",
   "outputs": [],
   "execution_count": null
  },
  {
   "metadata": {},
   "cell_type": "markdown",
   "source": "The scatter plots show that the relationship between CCRB coverage and lethal force rates isn’t very linear. Some states with low CCRB coverage had the highest rates, and the one with full coverage still had above-average use of force. When comparing across years, CCRB coverage appears to have increased: in 2016, most states were clustered on the lower end, while in 2020, the points are more spread out and extend further to the right, suggesting broader or more varied adoption across states.",
   "id": "2af85a3bd2846a4"
  },
  {
   "metadata": {},
   "cell_type": "code",
   "source": "viz.plot_quartile_boxplot(data, x_var='CCRB', y_var='STD_FORCE_TO_RESIDENT', label_map=labels)",
   "id": "ae2c2765a05c3a71",
   "outputs": [],
   "execution_count": null
  },
  {
   "metadata": {},
   "cell_type": "code",
   "source": "viz.plot_quartile_boxplot(data, x_var='CCRB', y_var='STD_FORCE_TO_RESIDENT', label_map=labels)",
   "id": "6b2d5308848e1768",
   "outputs": [],
   "execution_count": null
  },
  {
   "metadata": {},
   "cell_type": "markdown",
   "source": "The boxplot shows that states in higher CCRB coverage quartiles tend to have higher median lethal force rates. There's notable overlap and an outlier in Q2—a state with low CCRB coverage but the highest force rate (scaled to 1)—suggesting the relationship isn’t consistent across all states.",
   "id": "601883b7732d229e"
  },
  {
   "metadata": {},
   "cell_type": "code",
   "source": [
    "corr = data[['CCRB','STD_FORCE_TO_RESIDENT','STD_FORCE_TO_CRIME']]\n",
    "viz.plot_correlation_matrix(corr)"
   ],
   "id": "5d5fe99b7ea8c6c9",
   "outputs": [],
   "execution_count": null
  },
  {
   "metadata": {},
   "cell_type": "markdown",
   "source": "From the spearman correlations we can see a **moderate positive relationship** (Spearman’s ρ = 0.38), suggesting that states with greater CCRB presence tend to have higher rates of lethal force incidents. This goes against our expectation that more accountability (via CCRBs) would be linked to lower lethal force rates, this likely because CCRBs are being implemented reactively in response to high number of use-of-force incidents and as we saw from bar plots lethal force rates were generally higher in 2020. We look more closely at difference in correlation between 2016 and 2020:",
   "id": "4f0a22ae2c63f7b2"
  },
  {
   "metadata": {},
   "cell_type": "code",
   "source": [
    "for col in ['STD_FORCE_TO_RESIDENT','STD_FORCE_TO_CRIME']:\n",
    "    print(f'{col} vs. CCRB')\n",
    "    for year in [2016, 2020]:\n",
    "        year_sub = data[data['YEAR'] == year]\n",
    "        r, p = spearmanr(year_sub['CCRB'], year_sub[col])\n",
    "        print(f\"Year {year}: Spearman r = {r:.3f}, p = {p:.3f}\")"
   ],
   "id": "c7c2f9316c69c254",
   "outputs": [],
   "execution_count": null
  },
  {
   "metadata": {},
   "cell_type": "markdown",
   "source": "The relationship between CCRB coverage and standardized lethal force rates strengthened from 2016 to 2020. In both population- and crime-normalized metrics, the 2020 correlations were moderate and statistically significant, while 2016 showed weaker, non-significant results. This **supports Hypothesis 4**, though the positive direction of the relationship **contradicts Hypothesis 3**.",
   "id": "3bd5054a7779479f"
  },
  {
   "metadata": {},
   "cell_type": "markdown",
   "source": [
    "### County level analysis\n",
    "*Counties where a greater share of officers are employed in agencies with a civilian complaint review board will have a less lethal force incidents per year.*"
   ],
   "id": "5af428ea9c7ef05b"
  }
 ],
 "metadata": {
  "kernelspec": {
   "name": "python3",
   "language": "python",
   "display_name": "Python 3 (ipykernel)"
  }
 },
 "nbformat": 5,
 "nbformat_minor": 9
}
